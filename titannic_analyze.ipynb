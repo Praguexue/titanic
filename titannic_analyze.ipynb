{
 "cells": [
  {
   "cell_type": "markdown",
   "metadata": {},
   "source": [
    "# 泰坦尼克号生还者分析  \n",
    "  \n",
    "\n",
    "泰坦尼克号的沉没可以说是世纪悲剧，这艘号称“永不沉没”的巨轮还是带着无数的秘密和宝藏沉没于北大西洋的海面上。这艘运载着两千多人的巨轮，最后存活下来的只有705人，那么这存活下来的七百多人，他们究竟有没有什么共性呢？"
   ]
  },
  {
   "cell_type": "code",
   "execution_count": 1,
   "metadata": {},
   "outputs": [
    {
     "name": "stdout",
     "output_type": "stream",
     "text": [
      "Populating the interactive namespace from numpy and matplotlib\n"
     ]
    }
   ],
   "source": [
    "#导入所需要的库\n",
    "\n",
    "import numpy as np\n",
    "import pandas as pd\n",
    "import matplotlib.pyplot as plt\n",
    "import seaborn as sns\n",
    "%pylab inline"
   ]
  },
  {
   "cell_type": "markdown",
   "metadata": {},
   "source": [
    "# 数据整理  \n",
    "## 数据初探\n",
    "为了熟悉数据，我打印出了表格的前5行。"
   ]
  },
  {
   "cell_type": "code",
   "execution_count": 2,
   "metadata": {},
   "outputs": [
    {
     "name": "stdout",
     "output_type": "stream",
     "text": [
      "   PassengerId  Survived  Pclass  \\\n",
      "0            1         0       3   \n",
      "1            2         1       1   \n",
      "2            3         1       3   \n",
      "3            4         1       1   \n",
      "4            5         0       3   \n",
      "\n",
      "                                                Name     Sex   Age  SibSp  \\\n",
      "0                            Braund, Mr. Owen Harris    male  22.0      1   \n",
      "1  Cumings, Mrs. John Bradley (Florence Briggs Th...  female  38.0      1   \n",
      "2                             Heikkinen, Miss. Laina  female  26.0      0   \n",
      "3       Futrelle, Mrs. Jacques Heath (Lily May Peel)  female  35.0      1   \n",
      "4                           Allen, Mr. William Henry    male  35.0      0   \n",
      "\n",
      "   Parch            Ticket     Fare Cabin Embarked  \n",
      "0      0         A/5 21171   7.2500   NaN        S  \n",
      "1      0          PC 17599  71.2833   C85        C  \n",
      "2      0  STON/O2. 3101282   7.9250   NaN        S  \n",
      "3      0            113803  53.1000  C123        S  \n",
      "4      0            373450   8.0500   NaN        S  \n"
     ]
    }
   ],
   "source": [
    "#加载数据集，并打印出前5行\n",
    "\n",
    "titanic_df = pd.read_csv('titanic_data.csv')\n",
    "\n",
    "print titanic_df.head()"
   ]
  },
  {
   "cell_type": "markdown",
   "metadata": {},
   "source": [
    "可以看到每位乘客的数据包括12项内容：\n",
    "- PassengerId：乘客序号；\n",
    "- Survived：是否生还（1表示生还，0表示死亡）；\n",
    "- Pclass：舱位，虽然前5名乘客的‘Pclass’只看到了1和3，但是按照常识推测：起码应为1、2、3，分别为头等舱、二等舱、三等舱；\n",
    "- Name：乘客姓名；\n",
    "- Sex：乘客性别；\n",
    "- Age：乘客年龄；\n",
    "- SibSp：一同上船的兄弟姐妹或配偶的人数；\n",
    "- Parch：一同上船的父母或子女的人数；\n",
    "- Ticket：船票信息；\n",
    "- Fare：船票价格，决定了Pclass的等级；\n",
    "- Cabin：客舱编号，不同的编号对应不同的位置；\n",
    "- Embarked：上船地点  \n",
    "  \n",
    "初步分析来看，乘客序号和上船地点和乘客的生还率是没有直接关联的。舱位、乘客姓名、船票信息、票价、客舱编号其实都可以用舱位这个变量来统一说明（降维），乘客姓名会显示出此名乘客的社会阶级地位，一般来讲，贵族（名字很长）都会选择头等舱，而平民一般都是二等舱或者三等舱，那么票价、船票信息、客舱编号都是随之变化的，因此最能简洁反映不同的就是舱位。  \n",
    "分析之后，可以看出，猜想到的影响因素有：  \n",
    "- Pclass\n",
    "- Sex\n",
    "- Age\n",
    "- SibSp\n",
    "- Parch"
   ]
  },
  {
   "cell_type": "code",
   "execution_count": 5,
   "metadata": {},
   "outputs": [
    {
     "data": {
      "text/plain": [
       "0     PassengerId\n",
       "1        Survived\n",
       "2          Pclass\n",
       "3            Name\n",
       "4             Sex\n",
       "5             Age\n",
       "6           SibSp\n",
       "7           Parch\n",
       "8          Ticket\n",
       "9            Fare\n",
       "10          Cabin\n",
       "11       Embarked\n",
       "dtype: object"
      ]
     },
     "execution_count": 5,
     "metadata": {},
     "output_type": "execute_result"
    }
   ],
   "source": [
    "all_column = pd.Series(list(titanic_df))\n",
    "all_column"
   ]
  },
  {
   "cell_type": "code",
   "execution_count": 6,
   "metadata": {},
   "outputs": [
    {
     "data": {
      "text/plain": [
       "Series([], dtype: object)"
      ]
     },
     "execution_count": 6,
     "metadata": {},
     "output_type": "execute_result"
    }
   ],
   "source": [
    "all_column[all_column.duplicated()]"
   ]
  },
  {
   "cell_type": "markdown",
   "metadata": {},
   "source": [
    "## 缺省值检测和处理"
   ]
  },
  {
   "cell_type": "code",
   "execution_count": 3,
   "metadata": {},
   "outputs": [
    {
     "name": "stdout",
     "output_type": "stream",
     "text": [
      "<class 'pandas.core.frame.DataFrame'>\n",
      "RangeIndex: 891 entries, 0 to 890\n",
      "Data columns (total 12 columns):\n",
      "PassengerId    891 non-null int64\n",
      "Survived       891 non-null int64\n",
      "Pclass         891 non-null int64\n",
      "Name           891 non-null object\n",
      "Sex            891 non-null object\n",
      "Age            714 non-null float64\n",
      "SibSp          891 non-null int64\n",
      "Parch          891 non-null int64\n",
      "Ticket         891 non-null object\n",
      "Fare           891 non-null float64\n",
      "Cabin          204 non-null object\n",
      "Embarked       889 non-null object\n",
      "dtypes: float64(2), int64(5), object(5)\n",
      "memory usage: 83.6+ KB\n",
      "None\n"
     ]
    }
   ],
   "source": [
    "#检查各个特征中，有没有缺省值\n",
    "print titanic_df.info()"
   ]
  },
  {
   "cell_type": "markdown",
   "metadata": {},
   "source": [
    "这里总共有‘Age’、‘Cabin’、‘Embarked’，这三个特征有缺省值，不过后两个特征在后面的分析中用不上，所以暂不做处理，下面就来处理‘Age’的缺省值。 \n",
    "\n",
    "对于缺省值，如果几百条数据，只是缺少几条的话，我们确实可以直接做丢弃处理。但这里的差不多缺省了20%，直接丢弃就貌似太粗暴了，因此还是将缺省值做填充处理，更为稳妥。  \n",
    "\n",
    "先来查看下‘Age’的数据分布。"
   ]
  },
  {
   "cell_type": "code",
   "execution_count": 4,
   "metadata": {},
   "outputs": [
    {
     "name": "stdout",
     "output_type": "stream",
     "text": [
      "count    714.000000\n",
      "mean      29.699118\n",
      "std       14.526497\n",
      "min        0.420000\n",
      "25%       20.125000\n",
      "50%       28.000000\n",
      "75%       38.000000\n",
      "max       80.000000\n",
      "Name: Age, dtype: float64\n"
     ]
    }
   ],
   "source": [
    "#先列出重要的数据特征值\n",
    "print titanic_df['Age'].describe()"
   ]
  },
  {
   "cell_type": "code",
   "execution_count": 5,
   "metadata": {},
   "outputs": [
    {
     "data": {
      "text/plain": [
       "<matplotlib.text.Text at 0xdf7af28>"
      ]
     },
     "execution_count": 5,
     "metadata": {},
     "output_type": "execute_result"
    },
    {
     "data": {
      "image/png": "[encoded data removed]",
      "text/plain": [
       "<matplotlib.figure.Figure at 0xe040a90>"
      ]
     },
     "metadata": {},
     "output_type": "display_data"
    }
   ],
   "source": [
    "#再用直方图来表示年龄分布\n",
    "titanic_df['Age'].hist(bins=8)\n",
    "\n",
    "plt.title('Distribution of Age')\n",
    "plt.xlabel('Age')\n",
    "plt.ylabel('Count of Passengers')"
   ]
  },
  {
   "cell_type": "markdown",
   "metadata": {},
   "source": [
    "结合上面两个结果，可以看出年龄在20到30之间的人数最多，平均数为29岁，中位数为28岁。因此考虑填充缺省值就用平均年龄即可。"
   ]
  },
  {
   "cell_type": "code",
   "execution_count": 6,
   "metadata": {},
   "outputs": [
    {
     "name": "stdout",
     "output_type": "stream",
     "text": [
      "<class 'pandas.core.frame.DataFrame'>\n",
      "RangeIndex: 891 entries, 0 to 890\n",
      "Data columns (total 12 columns):\n",
      "PassengerId    891 non-null int64\n",
      "Survived       891 non-null int64\n",
      "Pclass         891 non-null int64\n",
      "Name           891 non-null object\n",
      "Sex            891 non-null object\n",
      "Age            891 non-null float64\n",
      "SibSp          891 non-null int64\n",
      "Parch          891 non-null int64\n",
      "Ticket         891 non-null object\n",
      "Fare           891 non-null float64\n",
      "Cabin          204 non-null object\n",
      "Embarked       889 non-null object\n",
      "dtypes: float64(2), int64(5), object(5)\n",
      "memory usage: 83.6+ KB\n",
      "None\n"
     ]
    }
   ],
   "source": [
    "#用平均数来填充缺省值\n",
    "titanic_df['Age'].fillna(titanic_df['Age'].mean(),inplace=True)\n",
    "\n",
    "#‘Age’特征的缺省值已被填充好\n",
    "print titanic_df.info()"
   ]
  },
  {
   "cell_type": "markdown",
   "metadata": {},
   "source": [
    "## 异常值检测  \n",
    "\n",
    "在检查异常值的时候，对需要分析的特征做一个简单的统计即可，主要就是查看各项有没有“离群值”。假如年龄的最大值为160岁，那一定是有问题的。不过年龄在上面处理缺省值的时候已经看到了，没有异常值，因此只需要检查剩下的四个特征即可。 "
   ]
  },
  {
   "cell_type": "code",
   "execution_count": 7,
   "metadata": {},
   "outputs": [
    {
     "data": {
      "text/plain": [
       "count    891.000000\n",
       "mean       2.308642\n",
       "std        0.836071\n",
       "min        1.000000\n",
       "25%        2.000000\n",
       "50%        3.000000\n",
       "75%        3.000000\n",
       "max        3.000000\n",
       "Name: Pclass, dtype: float64"
      ]
     },
     "execution_count": 7,
     "metadata": {},
     "output_type": "execute_result"
    }
   ],
   "source": [
    "#查看‘Pclass’\n",
    "titanic_df['Pclass'].describe()"
   ]
  },
  {
   "cell_type": "markdown",
   "metadata": {},
   "source": [
    "最小值为1，最大值为3，看来就是1、2、3，分别代表头等舱、二等舱、三等舱。三等舱的人数是最多的。"
   ]
  },
  {
   "cell_type": "code",
   "execution_count": 8,
   "metadata": {},
   "outputs": [
    {
     "data": {
      "text/plain": [
       "count      891\n",
       "unique       2\n",
       "top       male\n",
       "freq       577\n",
       "Name: Sex, dtype: object"
      ]
     },
     "execution_count": 8,
     "metadata": {},
     "output_type": "execute_result"
    }
   ],
   "source": [
    "#查看‘Sex’\n",
    "titanic_df['Sex'].describe()"
   ]
  },
  {
   "cell_type": "markdown",
   "metadata": {},
   "source": [
    "数据中只有两类数据，最多的是‘male’，那么另一个一定是‘female’了。"
   ]
  },
  {
   "cell_type": "code",
   "execution_count": 9,
   "metadata": {},
   "outputs": [
    {
     "data": {
      "text/plain": [
       "count    891.000000\n",
       "mean       0.523008\n",
       "std        1.102743\n",
       "min        0.000000\n",
       "25%        0.000000\n",
       "50%        0.000000\n",
       "75%        1.000000\n",
       "max        8.000000\n",
       "Name: SibSp, dtype: float64"
      ]
     },
     "execution_count": 9,
     "metadata": {},
     "output_type": "execute_result"
    }
   ],
   "source": [
    "#查看‘SibSp’\n",
    "titanic_df['SibSp'].describe()"
   ]
  },
  {
   "cell_type": "markdown",
   "metadata": {},
   "source": [
    "最小值为0，最大值为8，范围合理，没有异常值。大多数人还是独身出行或者是二人同行。"
   ]
  },
  {
   "cell_type": "code",
   "execution_count": 10,
   "metadata": {},
   "outputs": [
    {
     "data": {
      "text/plain": [
       "count    891.000000\n",
       "mean       0.381594\n",
       "std        0.806057\n",
       "min        0.000000\n",
       "25%        0.000000\n",
       "50%        0.000000\n",
       "75%        0.000000\n",
       "max        6.000000\n",
       "Name: Parch, dtype: float64"
      ]
     },
     "execution_count": 10,
     "metadata": {},
     "output_type": "execute_result"
    }
   ],
   "source": [
    "#查看‘Parch’\n",
    "titanic_df['Parch'].describe()"
   ]
  },
  {
   "cell_type": "markdown",
   "metadata": {},
   "source": [
    "最小值为0，最大值为6，范围合理，没有异常值。独自出行还是占大多数。  \n",
    "\n",
    "这几项经检查，都没有发现异常值，下面检查是否有重复记录。"
   ]
  },
  {
   "cell_type": "markdown",
   "metadata": {},
   "source": [
    "## 检查是否有重复值"
   ]
  },
  {
   "cell_type": "code",
   "execution_count": 11,
   "metadata": {},
   "outputs": [
    {
     "name": "stdout",
     "output_type": "stream",
     "text": [
      "count       891\n",
      "unique        1\n",
      "top       False\n",
      "freq        891\n",
      "dtype: object\n"
     ]
    }
   ],
   "source": [
    "#利用duplicated函数检查是否有重复值\n",
    "records = titanic_df.duplicated()\n",
    "print records.describe()"
   ]
  },
  {
   "cell_type": "markdown",
   "metadata": {},
   "source": [
    "看来records中只有一个元素，就是False，也就是说并没有重复值。但是当时查看资料时显示，泰坦尼克号总共的乘客加船员是两千多名，可这份记录只有891条，猜想可能是有很多人遇难者没有打捞上来，或者身份无从查证吧。或者这份表格可能对一些资料极其不全的记录条目，已经事先处理了一下了。  \n",
    "\n",
    "现在数据清理工作已经差不多了，下面开始进行数据分析。"
   ]
  },
  {
   "cell_type": "markdown",
   "metadata": {},
   "source": [
    "# 数据分析  \n"
   ]
  },
  {
   "cell_type": "code",
   "execution_count": 12,
   "metadata": {},
   "outputs": [
    {
     "name": "stdout",
     "output_type": "stream",
     "text": [
      "0.383838383838\n"
     ]
    }
   ],
   "source": [
    "#计算总生还率\n",
    "survived_rate = titanic_df['Survived'].mean()\n",
    "\n",
    "print survived_rate"
   ]
  },
  {
   "cell_type": "code",
   "execution_count": 13,
   "metadata": {},
   "outputs": [
    {
     "data": {
      "text/plain": [
       "<matplotlib.text.Text at 0xe391320>"
      ]
     },
     "execution_count": 13,
     "metadata": {},
     "output_type": "execute_result"
    },
    {
     "data": {
      "image/png": "[encoded data removed]",
      "text/plain": [
       "<matplotlib.figure.Figure at 0xe0a8c18>"
      ]
     },
     "metadata": {},
     "output_type": "display_data"
    }
   ],
   "source": [
    "#借鉴审阅中的代码，用饼图绘制生还人数所占的比例\n",
    "by_Survived = titanic_df.groupby(['Survived']).size()\n",
    "plt.pie(by_Survived, labels = ['Non-Survived','Survived'], autopct='%.1f%%')\n",
    "plt.title('Pie Chart for Survival of Passengers')"
   ]
  },
  {
   "cell_type": "markdown",
   "metadata": {
    "collapsed": true
   },
   "source": [
    "可以看出，总的生还率是38.4%。"
   ]
  },
  {
   "cell_type": "markdown",
   "metadata": {},
   "source": [
    "下面就来逐个分析各个因素对于生还率的影响，为了简练，首先创建一个分组函数。"
   ]
  },
  {
   "cell_type": "code",
   "execution_count": 14,
   "metadata": {
    "collapsed": true
   },
   "outputs": [],
   "source": [
    "#创建一个分组函数。并且计算各个组里条目的数量。\n",
    "\n",
    "def get_group(feature):\n",
    "    grouped_data = titanic_df.groupby(feature)\n",
    "    distribution_data = grouped_data.size()\n",
    "    \n",
    "    return grouped_data, distribution_data    "
   ]
  },
  {
   "cell_type": "markdown",
   "metadata": {},
   "source": [
    "## ‘Pclass’对于生还率的影响"
   ]
  },
  {
   "cell_type": "code",
   "execution_count": 15,
   "metadata": {},
   "outputs": [
    {
     "name": "stdout",
     "output_type": "stream",
     "text": [
      "Pclass\n",
      "1    216\n",
      "2    184\n",
      "3    491\n",
      "dtype: int64\n"
     ]
    },
    {
     "data": {
      "text/plain": [
       "<matplotlib.text.Text at 0xe496dd8>"
      ]
     },
     "execution_count": 15,
     "metadata": {},
     "output_type": "execute_result"
    },
    {
     "data": {
      "image/png": "[encoded data removed]",
      "text/plain": [
       "<matplotlib.figure.Figure at 0xe36deb8>"
      ]
     },
     "metadata": {},
     "output_type": "display_data"
    }
   ],
   "source": [
    "grouped_pclass, distribution_pclass = get_group('Pclass')\n",
    "\n",
    "#打印出各舱的人数\n",
    "print distribution_pclass\n",
    "\n",
    "#将结果可视化\n",
    "plt.pie(distribution_pclass, labels = ['First Class','Second Class', 'Third Class'], autopct='%.1f%%')\n",
    "plt.title('Distribution of Pclass')"
   ]
  },
  {
   "cell_type": "markdown",
   "metadata": {},
   "source": [
    "可以看出，舱位等级分布就是之前推测的1、2、3，分别代表头等舱、二等舱、三等舱。可以看出船上还是平民多，那可否**推测** *平民的生还人数最多呢？*  \n",
    "\n",
    "下面来查看生还人数及生还率。"
   ]
  },
  {
   "cell_type": "code",
   "execution_count": 16,
   "metadata": {},
   "outputs": [
    {
     "name": "stdout",
     "output_type": "stream",
     "text": [
      "Pclass\n",
      "1    136\n",
      "2     87\n",
      "3    119\n",
      "Name: Survived, dtype: int64\n"
     ]
    },
    {
     "data": {
      "text/plain": [
       "<matplotlib.text.Text at 0xe60fd30>"
      ]
     },
     "execution_count": 16,
     "metadata": {},
     "output_type": "execute_result"
    },
    {
     "data": {
      "image/png": "[encoded data removed]",
      "text/plain": [
       "<matplotlib.figure.Figure at 0xe442eb8>"
      ]
     },
     "metadata": {},
     "output_type": "display_data"
    }
   ],
   "source": [
    "#打印出各等级船舱的生还人数以及在生还者中所占比重\n",
    "survival_pclass = grouped_pclass['Survived'].sum()\n",
    "print survival_pclass\n",
    "\n",
    "#将结果可视化\n",
    "plt.pie(survival_pclass, labels = ['First Class','Second Class', 'Third Class'], autopct='%.1f%%' )\n",
    "plt.title('Distribution of Survival for each Pclass')"
   ]
  },
  {
   "cell_type": "markdown",
   "metadata": {},
   "source": [
    "可以看出，虽然三等舱的客人人数最多，但是生还人数却不如头等舱的客人，还是富人的生还率更高。  \n",
    "\n",
    "正如上次审阅中提示到的，考虑到样本大小的生还率 = 该群体生还人数/总生还人数  \n",
    "\n",
    "下面查看下每个群体内的生还率为多少。画图的时候，我参照了网上关于[多组条形图的画法](pythonspot.com/en/matplotlib-bar-chart/)。"
   ]
  },
  {
   "cell_type": "code",
   "execution_count": 17,
   "metadata": {},
   "outputs": [
    {
     "name": "stdout",
     "output_type": "stream",
     "text": [
      "Pclass\n",
      "1    0.629630\n",
      "2    0.472826\n",
      "3    0.242363\n",
      "Name: Survived, dtype: float64\n"
     ]
    }
   ],
   "source": [
    "print grouped_pclass['Survived'].mean()"
   ]
  },
  {
   "cell_type": "code",
   "execution_count": 22,
   "metadata": {
    "collapsed": true
   },
   "outputs": [],
   "source": [
    "#创建一个可视化函数\n",
    "def visualization(n_groups, survived, not_survived):\n",
    "    index = np.arange(n_groups)\n",
    "    bar_width = 0.35\n",
    "    opacity = 0.8\n",
    " \n",
    "    plt.bar(index, survived, bar_width,\n",
    "            alpha=opacity,\n",
    "            color='g',\n",
    "            label='Survived')\n",
    " \n",
    "    plt.bar(index + bar_width, not_survived, bar_width,\n",
    "            alpha=opacity,\n",
    "            color='b',\n",
    "            label='Not-Survived')\n",
    "    \n",
    "    return index+bar_width"
   ]
  },
  {
   "cell_type": "code",
   "execution_count": 23,
   "metadata": {},
   "outputs": [
    {
     "data": {
      "image/png": "[encoded data removed]",
      "text/plain": [
       "<matplotlib.figure.Figure at 0xf787a20>"
      ]
     },
     "metadata": {},
     "output_type": "display_data"
    }
   ],
   "source": [
    "#得到数据点--每级客舱的生还及遇难人数\n",
    "pclass_survived = grouped_pclass['Survived'].sum()\n",
    "pclass_not_survived = grouped_pclass['Survived'].count()-grouped_pclass['Survived'].sum()\n",
    " \n",
    "# 设置图形参数，创建图形\n",
    "distance = visualization(3, pclass_survived, pclass_not_survived)\n",
    " \n",
    "plt.xlabel('Pclass')\n",
    "plt.ylabel('Count of Passengers')\n",
    "plt.title('Survival Rate by each Pclass')\n",
    "plt.xticks(distance, ('1', '2', '3'))\n",
    "plt.legend()\n",
    " \n",
    "plt.tight_layout()\n",
    "plt.show()"
   ]
  },
  {
   "cell_type": "markdown",
   "metadata": {},
   "source": [
    "可以看出，在各自的组别中，三等舱的生还率更少了，比平均生还率还低。而头等舱的多一半人都得以生还。"
   ]
  },
  {
   "cell_type": "markdown",
   "metadata": {},
   "source": [
    "## ‘Sex’对于生还率的影响"
   ]
  },
  {
   "cell_type": "code",
   "execution_count": 24,
   "metadata": {},
   "outputs": [
    {
     "name": "stdout",
     "output_type": "stream",
     "text": [
      "Sex\n",
      "female    314\n",
      "male      577\n",
      "dtype: int64\n"
     ]
    },
    {
     "data": {
      "text/plain": [
       "<matplotlib.text.Text at 0xfad36a0>"
      ]
     },
     "execution_count": 24,
     "metadata": {},
     "output_type": "execute_result"
    },
    {
     "data": {
      "image/png": "[encoded data removed]",
      "text/plain": [
       "<matplotlib.figure.Figure at 0xf7468d0>"
      ]
     },
     "metadata": {},
     "output_type": "display_data"
    }
   ],
   "source": [
    "grouped_sex, distribution_sex = get_group('Sex')\n",
    "\n",
    "#打印出男性和女性的人数\n",
    "print distribution_sex\n",
    "\n",
    "#将结果可视化\n",
    "plt.pie(distribution_sex, labels = ['female','male'], autopct='%.1f%%')\n",
    "plt.title('Distribution of Sex')"
   ]
  },
  {
   "cell_type": "markdown",
   "metadata": {},
   "source": [
    "可以看出船上男性乘客差不多是女性乘客的两倍，按照当时社会风貌，这个很好理解，女性大约是不可能独自旅行的。那么能否像上面一样**推测** *男性乘客的生还人数大于女性人数呢？*  \n",
    "\n",
    "下面来查看生还人数及生还率。"
   ]
  },
  {
   "cell_type": "code",
   "execution_count": 25,
   "metadata": {},
   "outputs": [
    {
     "name": "stdout",
     "output_type": "stream",
     "text": [
      "Sex\n",
      "female    233\n",
      "male      109\n",
      "Name: Survived, dtype: int64\n"
     ]
    },
    {
     "data": {
      "text/plain": [
       "<matplotlib.text.Text at 0xfc035f8>"
      ]
     },
     "execution_count": 25,
     "metadata": {},
     "output_type": "execute_result"
    },
    {
     "data": {
      "image/png": "[encoded data removed]",
      "text/plain": [
       "<matplotlib.figure.Figure at 0xe6a54a8>"
      ]
     },
     "metadata": {},
     "output_type": "display_data"
    }
   ],
   "source": [
    "survival_sex = grouped_sex['Survived'].sum()\n",
    "print survival_sex\n",
    "\n",
    "plt.pie(survival_sex, labels=['female', 'male'], autopct='%.1f%%')\n",
    "plt.title('Survival for each Sex')"
   ]
  },
  {
   "cell_type": "markdown",
   "metadata": {},
   "source": [
    "可以看出女性乘客的生还人数和生还率都要远远大于男性乘客。看来上面的推测又错了。  \n",
    "\n",
    "那么，继续查看各自群体内的生还率。"
   ]
  },
  {
   "cell_type": "code",
   "execution_count": 26,
   "metadata": {},
   "outputs": [
    {
     "name": "stdout",
     "output_type": "stream",
     "text": [
      "Sex\n",
      "female    0.742038\n",
      "male      0.188908\n",
      "Name: Survived, dtype: float64\n"
     ]
    }
   ],
   "source": [
    "print grouped_sex['Survived'].mean()"
   ]
  },
  {
   "cell_type": "code",
   "execution_count": 27,
   "metadata": {},
   "outputs": [
    {
     "data": {
      "image/png": "[encoded data removed]",
      "text/plain": [
       "<matplotlib.figure.Figure at 0xfbbde48>"
      ]
     },
     "metadata": {},
     "output_type": "display_data"
    }
   ],
   "source": [
    "#得到数据点--每级客舱的生还及遇难人数\n",
    "sex_survived = grouped_sex['Survived'].sum()\n",
    "sex_not_survived = grouped_sex['Survived'].count()-grouped_sex['Survived'].sum()\n",
    " \n",
    "# 创建图形\n",
    "distance = visualization(2, sex_survived, sex_not_survived)\n",
    " \n",
    "plt.xlabel('Sex')\n",
    "plt.ylabel('Count of Passengers')\n",
    "plt.title('Survival Rate by each Sex')\n",
    "plt.xticks(distance, ('female', 'male'))\n",
    "plt.legend()\n",
    " \n",
    "plt.tight_layout()\n",
    "plt.show()"
   ]
  },
  {
   "cell_type": "markdown",
   "metadata": {},
   "source": [
    "可以看出很大部分（约74%）的女性乘客都生还了，但是对于男乘客，只有约20%生还。  \n",
    "\n",
    "那么对于这些生还的女性，究竟是贵族居多还是平民居多呢？下面就来探查一下。"
   ]
  },
  {
   "cell_type": "code",
   "execution_count": 28,
   "metadata": {},
   "outputs": [
    {
     "data": {
      "text/plain": [
       "<matplotlib.text.Text at 0x1003c828>"
      ]
     },
     "execution_count": 28,
     "metadata": {},
     "output_type": "execute_result"
    },
    {
     "data": {
      "image/png": "[encoded data removed]",
      "text/plain": [
       "<matplotlib.figure.Figure at 0xfba3c50>"
      ]
     },
     "metadata": {},
     "output_type": "display_data"
    }
   ],
   "source": [
    "#女性乘客中，Pclass的分布情况\n",
    "plt.pie(titanic_df[titanic_df['Sex'] == 'female'].groupby('Pclass').size(),\n",
    "        labels=['1', '2', '3'],autopct='%.1f%%')\n",
    "plt.title('Pclass Distribution of Female Passengers')"
   ]
  },
  {
   "cell_type": "code",
   "execution_count": 30,
   "metadata": {},
   "outputs": [
    {
     "data": {
      "text/plain": [
       "<matplotlib.text.Text at 0x10179588>"
      ]
     },
     "execution_count": 30,
     "metadata": {},
     "output_type": "execute_result"
    },
    {
     "data": {
      "image/png": "[encoded data removed]",
      "text/plain": [
       "<matplotlib.figure.Figure at 0xfebd080>"
      ]
     },
     "metadata": {},
     "output_type": "display_data"
    }
   ],
   "source": [
    "#生还的女性乘客中，Pclass的分布情况\n",
    "plt.pie(titanic_df[np.logical_and(titanic_df['Survived']==1, titanic_df['Sex']=='female')].groupby('Pclass').size(),\n",
    "        labels=['1', '2', '3'],autopct='%.1f%%')\n",
    "plt.title('Pclass Distribution of Female Survivals')"
   ]
  },
  {
   "cell_type": "code",
   "execution_count": 29,
   "metadata": {},
   "outputs": [
    {
     "name": "stdout",
     "output_type": "stream",
     "text": [
      "Pclass\n",
      "1     94\n",
      "2     76\n",
      "3    144\n",
      "dtype: int64\n",
      "Pclass\n",
      "1    91\n",
      "2    70\n",
      "3    72\n",
      "Name: Survived, dtype: int64\n",
      "Pclass\n",
      "1    0.968085\n",
      "2    0.921053\n",
      "3    0.500000\n",
      "Name: Survived, dtype: float64\n"
     ]
    }
   ],
   "source": [
    "#每个Pclass内，女性的人数\n",
    "print titanic_df[titanic_df['Sex'] == 'female'].groupby('Pclass').size()\n",
    "\n",
    "#每个Pclass内，女性的生还人数和生还率\n",
    "print titanic_df[titanic_df['Sex'] == 'female'].groupby('Pclass')['Survived'].sum()\n",
    "print titanic_df[titanic_df['Sex'] == 'female'].groupby('Pclass')['Survived'].mean()"
   ]
  },
  {
   "cell_type": "markdown",
   "metadata": {},
   "source": [
    "上面两张饼图表示出了“女性乘客中，Pclass的分布情况”和“生还的女性乘客中，Pclass的分布情况”。可以看出，生还女性中的等级分布还是比较均匀的，看来那时候的人们，在求生面前，算是比较平等的了，并没有区别贵贱。不过在各自的群体中，平民女性的生还率只有一半，而贵族（头等舱）或者中产阶级（二等舱）女性几乎全部生还，尤其是二等舱的女性乘客人数仅为三等舱的一般，但是群体内的生还率却高出一倍。猜测有可能是三等舱人太多，逃生时非常混乱的原因。"
   ]
  },
  {
   "cell_type": "markdown",
   "metadata": {},
   "source": [
    "## ‘Age’对生还率的影响"
   ]
  },
  {
   "cell_type": "code",
   "execution_count": 31,
   "metadata": {},
   "outputs": [
    {
     "data": {
      "image/png": "[encoded data removed]",
      "text/plain": [
       "<matplotlib.figure.Figure at 0x1010a320>"
      ]
     },
     "metadata": {},
     "output_type": "display_data"
    }
   ],
   "source": [
    "#查看处理完缺省值后的年龄分布\n",
    "\n",
    "plt.hist(titanic_df['Age'], bins=8)\n",
    "plt.title('Survival Distribution by Age')\n",
    "plt.xlabel('Age')\n",
    "plt.ylabel('Count of Passengers')\n",
    "plt.grid(True)"
   ]
  },
  {
   "cell_type": "code",
   "execution_count": 32,
   "metadata": {},
   "outputs": [
    {
     "data": {
      "image/png": "[encoded data removed]",
      "text/plain": [
       "<matplotlib.figure.Figure at 0x1050d3c8>"
      ]
     },
     "metadata": {},
     "output_type": "display_data"
    }
   ],
   "source": [
    "#只保留生还乘客的记录\n",
    "survived_records = titanic_df[titanic_df['Survived'] == 1]\n",
    "\n",
    "plt.hist(survived_records['Age'], bins=8)\n",
    "plt.title('Survival Distribution by Age')\n",
    "plt.xlabel('Age')\n",
    "plt.ylabel('Count of Survival')\n",
    "plt.grid(True)"
   ]
  },
  {
   "cell_type": "markdown",
   "metadata": {},
   "source": [
    "可以看出，在生还者中，依旧是20到30岁的人数最多。这样看来，似乎是青年的生还率最高。最低的则是老人们。下面来看在各自的年龄群体中的生还率。"
   ]
  },
  {
   "cell_type": "code",
   "execution_count": 33,
   "metadata": {},
   "outputs": [
    {
     "data": {
      "image/png": "[encoded data removed]",
      "text/plain": [
       "<matplotlib.figure.Figure at 0x10535668>"
      ]
     },
     "metadata": {},
     "output_type": "display_data"
    }
   ],
   "source": [
    "#按照是否生还，将年龄划分为两段。\n",
    "age_not_survived = titanic_df[titanic_df.Survived == 0]['Age']\n",
    "age_survived = titanic_df[titanic_df.Survived == 1]['Age']\n",
    "\n",
    "#设置图形大小\n",
    "plt.figure(figsize=(12, 6))\n",
    "\n",
    "#将年龄分为8段，来画出图形\n",
    "plt.hist([age_not_survived, age_survived], stacked=False, bins=8)\n",
    "plt.title('All Passenger Distribution By Age and Survival')\n",
    "plt.xlabel('Age')\n",
    "plt.ylabel('Count of Passengers')\n",
    "plt.legend(['Not Survived', 'Survived'])\n",
    "plt.show()"
   ]
  },
  {
   "cell_type": "markdown",
   "metadata": {},
   "source": [
    "第一幅图表明，青年的生还人数最多。但是在各自的年龄群体中，发现生还率最高的其实是0到10岁的小孩，很重要的一个原因我想是因为样本空间不大，再加上救援一般都小孩和妇女优先的条件。相比较而言，青年在其群体内的生还率其实大约只有1/3，根据上面对于Pclass和Sex的分析，猜测此年龄段的遇难者可能是平民且为男性居多。而无论是生还人数所占比例，还是群体内的生还率，60岁以上老年人都很低，也许是自己意识到即使上了救生船，体力也很难维持到救援，因此选择等待死亡。\n",
    "\n",
    "下面，我想重点研究一下10岁以下生还者的情况。"
   ]
  },
  {
   "cell_type": "code",
   "execution_count": 34,
   "metadata": {},
   "outputs": [
    {
     "data": {
      "text/plain": [
       "<matplotlib.text.Text at 0xf3edb00>"
      ]
     },
     "execution_count": 34,
     "metadata": {},
     "output_type": "execute_result"
    },
    {
     "data": {
      "image/png": "[encoded data removed]",
      "text/plain": [
       "<matplotlib.figure.Figure at 0xfba3400>"
      ]
     },
     "metadata": {},
     "output_type": "display_data"
    }
   ],
   "source": [
    "#小孩子们的Pclass分布\n",
    "plt.pie(titanic_df[titanic_df['Age']<11].groupby('Pclass').size(), labels=['1','2','3'], autopct='%.1f%%')\n",
    "plt.title('Pclass Distribution of Children')"
   ]
  },
  {
   "cell_type": "code",
   "execution_count": 35,
   "metadata": {},
   "outputs": [
    {
     "data": {
      "text/plain": [
       "<matplotlib.text.Text at 0xe75aa58>"
      ]
     },
     "execution_count": 35,
     "metadata": {},
     "output_type": "execute_result"
    },
    {
     "data": {
      "image/png": "[encoded data removed]",
      "text/plain": [
       "<matplotlib.figure.Figure at 0xfd73dd8>"
      ]
     },
     "metadata": {},
     "output_type": "display_data"
    }
   ],
   "source": [
    "#生还的小孩子们的Pclass分布\n",
    "plt.pie(titanic_df[np.logical_and(titanic_df['Age']<11, titanic_df['Survived'] == 1)].groupby('Pclass').size(), \n",
    "        labels=['1','2','3'], autopct='%.1f%%')\n",
    "plt.title('Pclass Distribution of Survival Children')"
   ]
  },
  {
   "cell_type": "code",
   "execution_count": 36,
   "metadata": {},
   "outputs": [
    {
     "name": "stdout",
     "output_type": "stream",
     "text": [
      "Pclass\n",
      "1     3\n",
      "2    17\n",
      "3    44\n",
      "dtype: int64\n",
      "Pclass\n",
      "1     2\n",
      "2    17\n",
      "3    19\n",
      "Name: Survived, dtype: int64\n",
      "Pclass\n",
      "1    0.666667\n",
      "2    1.000000\n",
      "3    0.431818\n",
      "Name: Survived, dtype: float64\n"
     ]
    }
   ],
   "source": [
    "#各Pclass内，小孩子的人数\n",
    "print titanic_df[titanic_df['Age']<11].groupby('Pclass').size()\n",
    "\n",
    "#各Pclass内，小孩子的生还人数\n",
    "print titanic_df[titanic_df['Age']<11].groupby('Pclass')['Survived'].sum()\n",
    "\n",
    "#各Pclass内，小孩子的生还率\n",
    "print titanic_df[titanic_df['Age']<11].groupby('Pclass')['Survived'].mean()"
   ]
  },
  {
   "cell_type": "markdown",
   "metadata": {},
   "source": [
    "两张饼图，乍看之下似乎数据分布差不太多，但是当打出实际人数时，却发现了和女性乘客生还率一样的事实，那就是平民群体内的生还率依旧没有贵族高，二等舱的几乎全部生还，一等舱虽然看起来不高，其实只有三人，遇难一人而已。看来Pclass真的是很重要的一个相关因素。  \n",
    "\n",
    "下面查看一下生还者中男性的特征。"
   ]
  },
  {
   "cell_type": "code",
   "execution_count": 37,
   "metadata": {},
   "outputs": [
    {
     "data": {
      "text/plain": [
       "<matplotlib.text.Text at 0x1023cc50>"
      ]
     },
     "execution_count": 37,
     "metadata": {},
     "output_type": "execute_result"
    },
    {
     "data": {
      "image/png": "[encoded data removed]",
      "text/plain": [
       "<matplotlib.figure.Figure at 0xf535a90>"
      ]
     },
     "metadata": {},
     "output_type": "display_data"
    }
   ],
   "source": [
    "#男性乘客的Pclass分布\n",
    "plt.pie(titanic_df[titanic_df['Sex']=='male'].groupby('Pclass').size(), autopct='%.1f%%', labels=['1','2','3'])\n",
    "plt.title('Pclass Distribution of Male Passengers')"
   ]
  },
  {
   "cell_type": "code",
   "execution_count": 38,
   "metadata": {},
   "outputs": [
    {
     "data": {
      "text/plain": [
       "<matplotlib.text.Text at 0xf7122e8>"
      ]
     },
     "execution_count": 38,
     "metadata": {},
     "output_type": "execute_result"
    },
    {
     "data": {
      "image/png": "[encoded data removed]",
      "text/plain": [
       "<matplotlib.figure.Figure at 0xf567080>"
      ]
     },
     "metadata": {},
     "output_type": "display_data"
    }
   ],
   "source": [
    "#生还男性中的Pclass分布\n",
    "plt.pie(titanic_df[np.logical_and(titanic_df['Sex']=='male',titanic_df['Survived']==1)].groupby('Pclass').size(), \n",
    "        autopct='%.1f%%', labels=['1','2','3'])\n",
    "plt.title('Pclass Distribution of Male Survival')"
   ]
  },
  {
   "cell_type": "code",
   "execution_count": 191,
   "metadata": {},
   "outputs": [
    {
     "name": "stdout",
     "output_type": "stream",
     "text": [
      "Pclass\n",
      "1    122\n",
      "2    108\n",
      "3    347\n",
      "dtype: int64\n",
      "Pclass\n",
      "1    45\n",
      "2    17\n",
      "3    47\n",
      "Name: Survived, dtype: int64\n",
      "Pclass\n",
      "1    0.368852\n",
      "2    0.157407\n",
      "3    0.135447\n",
      "Name: Survived, dtype: float64\n"
     ]
    }
   ],
   "source": [
    "#各Pclass内，男性的人数\n",
    "print titanic_df[titanic_df['Sex']=='male'].groupby('Pclass').size()\n",
    "\n",
    "#各Pclass内，男性的生还人数\n",
    "print titanic_df[titanic_df['Sex']=='male'].groupby('Pclass')['Survived'].sum()\n",
    "\n",
    "#各Pclass内，男性的生还率\n",
    "print titanic_df[titanic_df['Sex']=='male'].groupby('Pclass')['Survived'].mean()"
   ]
  },
  {
   "cell_type": "markdown",
   "metadata": {},
   "source": [
    "两张图的分布趋势依（百分百大小）并没有变化，只是分布面积有了显著变化。虽然在生还者中，三等舱的男性人数最多，但其实相较于总体人数来说的话，却是最低的。不过即使是Pclass为1的男性，他们的生还率依旧没有平均生还率高。  "
   ]
  },
  {
   "cell_type": "markdown",
   "metadata": {},
   "source": [
    "## ‘SibSp’和‘Parch’对生还率的影响"
   ]
  },
  {
   "cell_type": "code",
   "execution_count": 74,
   "metadata": {},
   "outputs": [
    {
     "data": {
      "text/plain": [
       "<matplotlib.text.Text at 0x124464e0>"
      ]
     },
     "execution_count": 74,
     "metadata": {},
     "output_type": "execute_result"
    },
    {
     "data": {
      "image/png": "[encoded data removed]",
      "text/plain": [
       "<matplotlib.figure.Figure at 0x130cb7b8>"
      ]
     },
     "metadata": {},
     "output_type": "display_data"
    }
   ],
   "source": [
    "#查看‘SibSp’的数据分布\n",
    "grouped_sibsp, distribution_sibsp = get_group('SibSp')\n",
    "\n",
    "distribution_sibsp.plot(kind='bar', title='Distribution of SibSp', rot=0)\n",
    "plt.ylabel('Count of Passengers')"
   ]
  },
  {
   "cell_type": "code",
   "execution_count": 76,
   "metadata": {},
   "outputs": [
    {
     "data": {
      "text/plain": [
       "<matplotlib.text.Text at 0x13f8b630>"
      ]
     },
     "execution_count": 76,
     "metadata": {},
     "output_type": "execute_result"
    },
    {
     "data": {
      "image/png": "[encoded data removed]",
      "text/plain": [
       "<matplotlib.figure.Figure at 0x137eb898>"
      ]
     },
     "metadata": {},
     "output_type": "display_data"
    }
   ],
   "source": [
    "#查看‘Parch’的数据分布\n",
    "grouped_parch, distribution_parch = get_group('Parch')\n",
    "\n",
    "distribution_parch.plot(kind='bar',title='Distribution of Parch', rot=0)\n",
    "plt.ylabel('Count of Passengers')"
   ]
  },
  {
   "cell_type": "markdown",
   "metadata": {},
   "source": [
    "可以看出来，独行的人数还是很多的。"
   ]
  },
  {
   "cell_type": "code",
   "execution_count": 78,
   "metadata": {},
   "outputs": [
    {
     "data": {
      "text/plain": [
       "<matplotlib.text.Text at 0x1429d940>"
      ]
     },
     "execution_count": 78,
     "metadata": {},
     "output_type": "execute_result"
    },
    {
     "data": {
      "image/png": "[encoded data removed]",
      "text/plain": [
       "<matplotlib.figure.Figure at 0x14460898>"
      ]
     },
     "metadata": {},
     "output_type": "display_data"
    }
   ],
   "source": [
    "#查看生还者中‘SibSp’的分布\n",
    "grouped_sibsp['Survived'].sum().plot(kind='bar', title='Distribution of Survival SibSp',rot=0)\n",
    "plt.ylabel('Count of Passengers')"
   ]
  },
  {
   "cell_type": "code",
   "execution_count": 79,
   "metadata": {},
   "outputs": [
    {
     "name": "stdout",
     "output_type": "stream",
     "text": [
      "SibSp\n",
      "0    608\n",
      "1    209\n",
      "2     28\n",
      "3     16\n",
      "4     18\n",
      "5      5\n",
      "8      7\n",
      "dtype: int64\n",
      "SibSp\n",
      "0    210\n",
      "1    112\n",
      "2     13\n",
      "3      4\n",
      "4      3\n",
      "5      0\n",
      "8      0\n",
      "Name: Survived, dtype: int64\n",
      "SibSp\n",
      "0    0.345395\n",
      "1    0.535885\n",
      "2    0.464286\n",
      "3    0.250000\n",
      "4    0.166667\n",
      "5    0.000000\n",
      "8    0.000000\n",
      "Name: Survived, dtype: float64\n"
     ]
    }
   ],
   "source": [
    "#查看‘SibSp’的分布人数\n",
    "print distribution_sibsp\n",
    "\n",
    "#查看生还者中‘SibSp’的分布人数\n",
    "print grouped_sibsp['Survived'].sum()\n",
    "\n",
    "#查看各‘SibSp’的生还率\n",
    "print grouped_sibsp['Survived'].mean()"
   ]
  },
  {
   "cell_type": "code",
   "execution_count": 80,
   "metadata": {},
   "outputs": [
    {
     "data": {
      "text/plain": [
       "<matplotlib.text.Text at 0x1446da58>"
      ]
     },
     "execution_count": 80,
     "metadata": {},
     "output_type": "execute_result"
    },
    {
     "data": {
      "image/png": "[encoded data removed]",
      "text/plain": [
       "<matplotlib.figure.Figure at 0x14676240>"
      ]
     },
     "metadata": {},
     "output_type": "display_data"
    }
   ],
   "source": [
    "#生还者中‘Parch’的分布\n",
    "grouped_parch['Survived'].sum().plot(kind='bar', title='Distribution of Survival Parch', rot=0)\n",
    "plt.ylabel('Count of Passengers')"
   ]
  },
  {
   "cell_type": "code",
   "execution_count": 81,
   "metadata": {},
   "outputs": [
    {
     "name": "stdout",
     "output_type": "stream",
     "text": [
      "Parch\n",
      "0    678\n",
      "1    118\n",
      "2     80\n",
      "3      5\n",
      "4      4\n",
      "5      5\n",
      "6      1\n",
      "dtype: int64\n",
      "Parch\n",
      "0    233\n",
      "1     65\n",
      "2     40\n",
      "3      3\n",
      "4      0\n",
      "5      1\n",
      "6      0\n",
      "Name: Survived, dtype: int64\n",
      "Parch\n",
      "0    0.343658\n",
      "1    0.550847\n",
      "2    0.500000\n",
      "3    0.600000\n",
      "4    0.000000\n",
      "5    0.200000\n",
      "6    0.000000\n",
      "Name: Survived, dtype: float64\n"
     ]
    }
   ],
   "source": [
    "#‘Parch’的分布人数\n",
    "print distribution_parch\n",
    "\n",
    "#生还者中‘Parch’的分布人数\n",
    "print grouped_parch['Survived'].sum()\n",
    "\n",
    "#各‘Parch’的生还率\n",
    "print grouped_parch['Survived'].mean()"
   ]
  },
  {
   "cell_type": "markdown",
   "metadata": {},
   "source": [
    "可以发现兄弟姐妹或配偶的人数和生还率基本是成反比的，生还率最高的其实是单独出行的乘客。至于群体内的生还率的高低，其实和样本大小是有很大关系的，因此单独查看每个群体的生还率时，会得出SibSp或者Parch为1到3的乘客生还率更高的结果。至于大家庭出行的乘客，生还率可以说是非常低了。  \n",
    "\n",
    "下面来查看一下，这两项都为0，即独自出行的人的Sex分布。"
   ]
  },
  {
   "cell_type": "code",
   "execution_count": 54,
   "metadata": {},
   "outputs": [
    {
     "name": "stdout",
     "output_type": "stream",
     "text": [
      "Sex\n",
      "female    126\n",
      "male      411\n",
      "dtype: int64\n"
     ]
    },
    {
     "data": {
      "text/plain": [
       "<matplotlib.text.Text at 0x11d85198>"
      ]
     },
     "execution_count": 54,
     "metadata": {},
     "output_type": "execute_result"
    },
    {
     "data": {
      "image/png": "[encoded data removed]",
      "text/plain": [
       "<matplotlib.figure.Figure at 0x118ee6a0>"
      ]
     },
     "metadata": {},
     "output_type": "display_data"
    }
   ],
   "source": [
    "#独自出行的乘客的Sex分布\n",
    "print titanic_df[np.logical_and(titanic_df['SibSp']==0, titanic_df['Parch']==0)].groupby('Sex').size()\n",
    "\n",
    "plt.pie(titanic_df[np.logical_and(titanic_df['SibSp']==0, titanic_df['Parch']==0)].groupby('Sex').size(),\n",
    "       autopct='%.1f%%', labels=['female','male'])\n",
    "plt.title('Sex Distribution of Alone Passengers')"
   ]
  },
  {
   "cell_type": "markdown",
   "metadata": {},
   "source": [
    "让我惊讶的一点是，当年独自出行的女性其实不少。"
   ]
  },
  {
   "cell_type": "code",
   "execution_count": 55,
   "metadata": {},
   "outputs": [
    {
     "name": "stdout",
     "output_type": "stream",
     "text": [
      "Sex\n",
      "female    99\n",
      "male      64\n",
      "dtype: int64\n"
     ]
    },
    {
     "data": {
      "text/plain": [
       "<matplotlib.text.Text at 0x11eb8320>"
      ]
     },
     "execution_count": 55,
     "metadata": {},
     "output_type": "execute_result"
    },
    {
     "data": {
      "image/png": "[encoded data removed]",
      "text/plain": [
       "<matplotlib.figure.Figure at 0x11a72048>"
      ]
     },
     "metadata": {},
     "output_type": "display_data"
    }
   ],
   "source": [
    "#独自出行的幸存者的Sex分布\n",
    "survived_alone = titanic_df[titanic_df['Survived']==1]\n",
    "print survived_alone[np.logical_and(survived_alone['SibSp']==0, survived_alone['Parch']==0)].groupby('Sex').size()\n",
    "\n",
    "plt.pie(survived_alone[np.logical_and(survived_alone['SibSp']==0, survived_alone['Parch']==0)].groupby('Sex').size(),\n",
    "       autopct='%.1f%%', labels=['female','male'])\n",
    "plt.title('Sex Distribution of Alone Survival')"
   ]
  },
  {
   "cell_type": "markdown",
   "metadata": {},
   "source": [
    "可以发现，生还的还是女性居多。    "
   ]
  },
  {
   "cell_type": "markdown",
   "metadata": {},
   "source": [
    "# 总结  \n",
    "  \n",
    "综上所述：  \n",
    "- 泰坦尼克号总的生还率是0.38。  \n",
    "- 头等舱的乘客生还率最高，三等舱最低，但是就生还者的舱位分布情况来看，也并没有区分贵贱。  \n",
    "- 女性乘客的生还率要远远大于男性乘客。 \n",
    "- 0到10岁的小孩的生还率最高。  \n",
    "- 独自出行的生还率更高。 \n",
    "\n",
    "分析的局限性：  \n",
    "- 根据报告开头所提到的，泰坦尼克号的船员加上乘客大约为两千多人（后来查资料，确切数字为2224），生还者只有705人。但是这份记录的人数只有891人，因此从数量上来说，记录条数不够一半，因此这份报告，确切来说没有办法代表整体人口。且实际的生还率为31.7%，但此份记录的生还率为38.4%，偏差约为21.1%，确实不是一个小的偏差，因此可能影响对于生还因素的分析，只能作为参考来看。  \n",
    "- 特别的，记录中非常重要的特征“Age”是有缺省值的，大约占20%，也不是少部分了。在观察了数据分布后，决定用平均值填充缺省值，避免了对原数据分布的大趋势的影响。但我认为这样处理还是会对平均值所在区间的数据有些影响，会令分析结果有偏差。\n",
    "- 除了报告中提现的那些变量，还有一个因素我认为也会有影响，那就是客舱距离逃生通道的远近。因为泰坦尼克号是在人们的都入睡的晚上撞上冰山的，因此大部分人都呆在了各自的客舱内，那么，距离逃生通道越近的人，生还率自然也比别人高。  \n",
    "- 这篇报告虽然体现了很多特征与生还率的相关关系，但是严格来说并不能作为因果关系来看待。"
   ]
  },
  {
   "cell_type": "code",
   "execution_count": null,
   "metadata": {
    "collapsed": true
   },
   "outputs": [],
   "source": []
  }
 ],
 "metadata": {
  "kernelspec": {
   "display_name": "Python 2",
   "language": "python",
   "name": "python2"
  },
  "language_info": {
   "codemirror_mode": {
    "name": "ipython",
    "version": 2
   },
   "file_extension": ".py",
   "mimetype": "text/x-python",
   "name": "python",
   "nbconvert_exporter": "python",
   "pygments_lexer": "ipython2",
   "version": "2.7.13"
  }
 },
 "nbformat": 4,
 "nbformat_minor": 2
}
